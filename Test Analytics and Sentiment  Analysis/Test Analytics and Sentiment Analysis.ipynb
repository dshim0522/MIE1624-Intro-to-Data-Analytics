{
 "cells": [
  {
   "cell_type": "code",
   "execution_count": 1,
   "metadata": {
    "scrolled": true
   },
   "outputs": [
    {
     "name": "stdout",
     "output_type": "stream",
     "text": [
      "Requirement already satisfied: pandas in /home/jupyterlab/conda/lib/python3.6/site-packages (0.24.1)\n",
      "Requirement already satisfied: numpy>=1.12.0 in /home/jupyterlab/conda/lib/python3.6/site-packages (from pandas) (1.15.4)\n",
      "Requirement already satisfied: python-dateutil>=2.5.0 in /home/jupyterlab/conda/lib/python3.6/site-packages (from pandas) (2.7.5)\n",
      "Requirement already satisfied: pytz>=2011k in /home/jupyterlab/conda/lib/python3.6/site-packages (from pandas) (2018.9)\n",
      "Requirement already satisfied: six>=1.5 in /home/jupyterlab/conda/lib/python3.6/site-packages (from python-dateutil>=2.5.0->pandas) (1.12.0)\n",
      "Requirement already satisfied: numpy in /home/jupyterlab/conda/lib/python3.6/site-packages (1.15.4)\n",
      "Requirement already satisfied: sklearn in /home/jupyterlab/conda/lib/python3.6/site-packages (0.0)\n",
      "Requirement already satisfied: scikit-learn in /home/jupyterlab/conda/lib/python3.6/site-packages (from sklearn) (0.20.1)\n",
      "Requirement already satisfied: numpy>=1.8.2 in /home/jupyterlab/conda/lib/python3.6/site-packages (from scikit-learn->sklearn) (1.15.4)\n",
      "Requirement already satisfied: scipy>=0.13.3 in /home/jupyterlab/conda/lib/python3.6/site-packages (from scikit-learn->sklearn) (1.1.0)\n"
     ]
    }
   ],
   "source": [
    "!pip install pandas\n",
    "!pip install numpy\n",
    "!pip install sklearn"
   ]
  },
  {
   "cell_type": "code",
   "execution_count": 2,
   "metadata": {},
   "outputs": [
    {
     "name": "stderr",
     "output_type": "stream",
     "text": [
      "[nltk_data] Downloading package stopwords to\n",
      "[nltk_data]     /home/jupyterlab/nltk_data...\n",
      "[nltk_data]   Package stopwords is already up-to-date!\n",
      "[nltk_data] Downloading package punkt to /home/jupyterlab/nltk_data...\n",
      "[nltk_data]   Package punkt is already up-to-date!\n"
     ]
    },
    {
     "data": {
      "text/plain": [
       "True"
      ]
     },
     "execution_count": 2,
     "metadata": {},
     "output_type": "execute_result"
    }
   ],
   "source": [
    "import numpy as np\n",
    "import pandas as pd\n",
    "import matplotlib.pyplot as plt\n",
    "from sklearn.model_selection import train_test_split\n",
    "from sklearn.linear_model import LogisticRegression\n",
    "from sklearn import metrics\n",
    "from sklearn.metrics import classification_report\n",
    "import re, nltk\n",
    "from collections import Counter\n",
    "from nltk.stem import *\n",
    "from nltk.corpus import stopwords\n",
    "from nltk.tokenize import word_tokenize\n",
    "from nltk.tokenize import RegexpTokenizer\n",
    "from html.parser import HTMLParser\n",
    "import seaborn as sns\n",
    "from sklearn.metrics import accuracy_score, confusion_matrix\n",
    "\n",
    "nltk.download('stopwords')\n",
    "nltk.download('punkt')"
   ]
  },
  {
   "cell_type": "markdown",
   "metadata": {},
   "source": [
    "# 1. Data Cleaning"
   ]
  },
  {
   "cell_type": "code",
   "execution_count": 3,
   "metadata": {},
   "outputs": [
    {
     "data": {
      "text/plain": [
       "['\"class\",\"id\",\"date\",\"query\",\"user\",\"text\"\\n',\n",
       " '\"0\",\"1467810369\",\"Mon Apr 06 22:19:45 PDT 2009\",\"NO_QUERY\",\"_TheSpecialOne_\",\"@switchfoot http://twitpic.com/2y1zl - Awww, that\\'s a bummer.  You shoulda got David Carr of Third Day to do it. ;D\"\\n',\n",
       " '\"0\",\"1467810672\",\"Mon Apr 06 22:19:49 PDT 2009\",\"NO_QUERY\",\"scotthamilton\",\"is upset that he can\\'t update his Facebook by texting it... and might cry as a result  School today also. Blah!\"\\n',\n",
       " '\"0\",\"1467810917\",\"Mon Apr 06 22:19:53 PDT 2009\",\"NO_QUERY\",\"mattycus\",\"@Kenichan I dived many times for the ball. Managed to save 50%  The rest go out of bounds\"\\n',\n",
       " '\"0\",\"1467811184\",\"Mon Apr 06 22:19:57 PDT 2009\",\"NO_QUERY\",\"ElleCTF\",\"my whole body feels itchy and like its on fire \"\\n']"
      ]
     },
     "execution_count": 3,
     "metadata": {},
     "output_type": "execute_result"
    }
   ],
   "source": [
    "generic_tweets = open('generic_tweets.txt',\"r\", encoding = 'utf-8')\n",
    "generic_tweets = generic_tweets.readlines()\n",
    "generic_tweets[0:5]"
   ]
  },
  {
   "cell_type": "code",
   "execution_count": 4,
   "metadata": {},
   "outputs": [],
   "source": [
    "# delete the first column of the generic tweet list\n",
    "del generic_tweets[0]"
   ]
  },
  {
   "cell_type": "code",
   "execution_count": 5,
   "metadata": {},
   "outputs": [],
   "source": [
    "# The function is created to clean the data\n",
    "def datacleaner(tweet):\n",
    "\n",
    "    stopWords_file = open(\"stop_words.txt\", \"r\", encoding = 'utf-8')\n",
    "    stopWords_list = stopWords_file.readlines()\n",
    "    \n",
    "    stop_words = stopwords.words(\"english\") + [stopWords_list]\n",
    "    tokenizer = RegexpTokenizer(r'\\w+')\n",
    "    for i in range(len(tweet)):\n",
    "        # removing all html tags\n",
    "        clean = re.compile('<.*?>')\n",
    "        tweet[i] = re.sub(clean, '', tweet[i]) \n",
    "        \n",
    "        #replacing Html character codes with ASCII equivalent\n",
    "        html = HTMLParser()\n",
    "        tweet[i] = html.unescape(tweet[i])\n",
    "    \n",
    "        #removing all URLs\n",
    "        tweet[i] = re.sub('(\\s+\\S+.[^\\s]+/\\S+)','',tweet[i])\n",
    "        tweet[i] = re.sub('(\\s+\\S+.ca)','',tweet[i])\n",
    "        tweet[i] = re.sub('(\\s+\\S+.uk)','',tweet[i])\n",
    "        \n",
    "        #Lowercse all characters in the text\n",
    "        tweet[i] = tweet[i].lower()\n",
    "        \n",
    "        #Removing all the stopwords\n",
    "        word_list = tokenizer.tokenize(tweet[i])\n",
    "        filter_words = [word for word in word_list if word not in stop_words]  \n",
    "        tweet[i] = filter_words\n",
    "        tweet[i] = \" \".join(tweet[i])\n",
    "        \n",
    "        #Remove some special characters\n",
    "        emoji_pattern = re.compile(u\"(\\ud83d[\\ude00-\\ude4f])|\"  # emoticons\n",
    "                                u\"(\\ud83c[\\udf00-\\uffff])|\"  # symbols & pictographs (1 of 2)\n",
    "                                u\"(\\ud83d[\\u0000-\\uddff])|\"  # symbols & pictographs (2 of 2)\n",
    "                                u\"(\\ud83d[\\ude80-\\udeff])|\"  # transport & map symbols\n",
    "                                u\"(\\ud83c[\\udde0-\\uddff])\"  # flags (iOS)\n",
    "                                \"+\", flags=re.UNICODE)\n",
    "        tweet[i] = emoji_pattern.sub(r'', tweet[i])\n",
    "        tweet[i] = re.sub('[âœðÿˆïº]','',tweet[i])\n",
    "\n",
    "    return tweet"
   ]
  },
  {
   "cell_type": "code",
   "execution_count": 6,
   "metadata": {},
   "outputs": [],
   "source": [
    "# generate each generic tweets column for the datafram\n",
    "generic_tweets_class = [tw.split(',')[:][0].strip('\"') for tw in generic_tweets]\n",
    "generic_tweets_id = [tw.split(',')[:][1].strip('\"') for tw in generic_tweets]\n",
    "generic_tweets_date = [tw.split(',')[:][2].strip('\"') for tw in generic_tweets]\n",
    "generic_tweets_query = [tw.split(',')[:][3].strip('\"') for tw in generic_tweets]\n",
    "generic_tweets_user = [tw.split(',')[:][4].strip('\"') for tw in generic_tweets]\n",
    "generic_tweets_text = [tw.split(',')[:][5].strip('\"') for tw in generic_tweets]"
   ]
  },
  {
   "cell_type": "code",
   "execution_count": 7,
   "metadata": {},
   "outputs": [
    {
     "name": "stderr",
     "output_type": "stream",
     "text": [
      "/home/jupyterlab/conda/lib/python3.6/site-packages/ipykernel_launcher.py:16: DeprecationWarning: The unescape method is deprecated and will be removed in 3.5, use html.unescape() instead.\n",
      "  app.launch_new_instance()\n"
     ]
    }
   ],
   "source": [
    "# Do dataCleaning for each list\n",
    "generic_cleaned_tweet_class = datacleaner(generic_tweets_class)\n",
    "generic_cleaned_tweet_id = datacleaner(generic_tweets_id)\n",
    "generic_cleaned_tweet_date = datacleaner(generic_tweets_date)\n",
    "generic_cleaned_tweet_query = datacleaner(generic_tweets_query)\n",
    "generic_cleaned_tweet_user = datacleaner(generic_tweets_user)\n",
    "generic_cleaned_tweet_text = datacleaner(generic_tweets_text)"
   ]
  },
  {
   "cell_type": "code",
   "execution_count": 8,
   "metadata": {},
   "outputs": [
    {
     "data": {
      "text/html": [
       "<div>\n",
       "<style scoped>\n",
       "    .dataframe tbody tr th:only-of-type {\n",
       "        vertical-align: middle;\n",
       "    }\n",
       "\n",
       "    .dataframe tbody tr th {\n",
       "        vertical-align: top;\n",
       "    }\n",
       "\n",
       "    .dataframe thead th {\n",
       "        text-align: right;\n",
       "    }\n",
       "</style>\n",
       "<table border=\"1\" class=\"dataframe\">\n",
       "  <thead>\n",
       "    <tr style=\"text-align: right;\">\n",
       "      <th></th>\n",
       "      <th>class</th>\n",
       "      <th>id</th>\n",
       "      <th>date</th>\n",
       "      <th>query</th>\n",
       "      <th>user</th>\n",
       "      <th>text</th>\n",
       "    </tr>\n",
       "  </thead>\n",
       "  <tbody>\n",
       "    <tr>\n",
       "      <th>0</th>\n",
       "      <td>0</td>\n",
       "      <td>1467810369</td>\n",
       "      <td>mon apr 06 22 19 45 pdt 2009</td>\n",
       "      <td>no_query</td>\n",
       "      <td>_thespecialone_</td>\n",
       "      <td>switchfoot awww</td>\n",
       "    </tr>\n",
       "    <tr>\n",
       "      <th>1</th>\n",
       "      <td>0</td>\n",
       "      <td>1467810672</td>\n",
       "      <td>mon apr 06 22 19 49 pdt 2009</td>\n",
       "      <td>no_query</td>\n",
       "      <td>scotthamilton</td>\n",
       "      <td>upset thatn update facebook texting might cry ...</td>\n",
       "    </tr>\n",
       "    <tr>\n",
       "      <th>2</th>\n",
       "      <td>0</td>\n",
       "      <td>1467810917</td>\n",
       "      <td>mon apr 06 22 19 53 pdt 2009</td>\n",
       "      <td>no_query</td>\n",
       "      <td>mattycus</td>\n",
       "      <td>kenichan dived many times ball managed save 50...</td>\n",
       "    </tr>\n",
       "    <tr>\n",
       "      <th>3</th>\n",
       "      <td>0</td>\n",
       "      <td>1467811184</td>\n",
       "      <td>mon apr 06 22 19 57 pdt 2009</td>\n",
       "      <td>no_query</td>\n",
       "      <td>ellectf</td>\n",
       "      <td>whole body feels itchy like fire</td>\n",
       "    </tr>\n",
       "    <tr>\n",
       "      <th>4</th>\n",
       "      <td>0</td>\n",
       "      <td>1467811193</td>\n",
       "      <td>mon apr 06 22 19 57 pdt 2009</td>\n",
       "      <td>no_query</td>\n",
       "      <td>karoli</td>\n",
       "      <td>nationwideclass</td>\n",
       "    </tr>\n",
       "    <tr>\n",
       "      <th>5</th>\n",
       "      <td>0</td>\n",
       "      <td>1467811372</td>\n",
       "      <td>mon apr 06 22 20 00 pdt 2009</td>\n",
       "      <td>no_query</td>\n",
       "      <td>joy_wolf</td>\n",
       "      <td>kwesidei whole crew</td>\n",
       "    </tr>\n",
       "    <tr>\n",
       "      <th>6</th>\n",
       "      <td>0</td>\n",
       "      <td>1467811592</td>\n",
       "      <td>mon apr 06 22 20 03 pdt 2009</td>\n",
       "      <td>no_query</td>\n",
       "      <td>mybirch</td>\n",
       "      <td>need hug</td>\n",
       "    </tr>\n",
       "    <tr>\n",
       "      <th>7</th>\n",
       "      <td>0</td>\n",
       "      <td>1467811594</td>\n",
       "      <td>mon apr 06 22 20 03 pdt 2009</td>\n",
       "      <td>no_query</td>\n",
       "      <td>cozz</td>\n",
       "      <td>loltrish hey long time see yes rains bit</td>\n",
       "    </tr>\n",
       "    <tr>\n",
       "      <th>8</th>\n",
       "      <td>0</td>\n",
       "      <td>1467811795</td>\n",
       "      <td>mon apr 06 22 20 05 pdt 2009</td>\n",
       "      <td>no_query</td>\n",
       "      <td>2hood4hollywood</td>\n",
       "      <td>tatiana_k nope</td>\n",
       "    </tr>\n",
       "    <tr>\n",
       "      <th>9</th>\n",
       "      <td>0</td>\n",
       "      <td>1467812025</td>\n",
       "      <td>mon apr 06 22 20 09 pdt 2009</td>\n",
       "      <td>no_query</td>\n",
       "      <td>mimismo</td>\n",
       "      <td>twittera que muera</td>\n",
       "    </tr>\n",
       "  </tbody>\n",
       "</table>\n",
       "</div>"
      ],
      "text/plain": [
       "  class          id                          date     query             user  \\\n",
       "0     0  1467810369  mon apr 06 22 19 45 pdt 2009  no_query  _thespecialone_   \n",
       "1     0  1467810672  mon apr 06 22 19 49 pdt 2009  no_query    scotthamilton   \n",
       "2     0  1467810917  mon apr 06 22 19 53 pdt 2009  no_query         mattycus   \n",
       "3     0  1467811184  mon apr 06 22 19 57 pdt 2009  no_query          ellectf   \n",
       "4     0  1467811193  mon apr 06 22 19 57 pdt 2009  no_query           karoli   \n",
       "5     0  1467811372  mon apr 06 22 20 00 pdt 2009  no_query         joy_wolf   \n",
       "6     0  1467811592  mon apr 06 22 20 03 pdt 2009  no_query          mybirch   \n",
       "7     0  1467811594  mon apr 06 22 20 03 pdt 2009  no_query             cozz   \n",
       "8     0  1467811795  mon apr 06 22 20 05 pdt 2009  no_query  2hood4hollywood   \n",
       "9     0  1467812025  mon apr 06 22 20 09 pdt 2009  no_query          mimismo   \n",
       "\n",
       "                                                text  \n",
       "0                                    switchfoot awww  \n",
       "1  upset thatn update facebook texting might cry ...  \n",
       "2  kenichan dived many times ball managed save 50...  \n",
       "3                   whole body feels itchy like fire  \n",
       "4                                    nationwideclass  \n",
       "5                                kwesidei whole crew  \n",
       "6                                           need hug  \n",
       "7           loltrish hey long time see yes rains bit  \n",
       "8                                     tatiana_k nope  \n",
       "9                                 twittera que muera  "
      ]
     },
     "execution_count": 8,
     "metadata": {},
     "output_type": "execute_result"
    }
   ],
   "source": [
    "# Generate dataframe for Generic tweets list\n",
    "\n",
    "generic_cleaned_tweets_df = pd.DataFrame ({\n",
    "        'class': generic_cleaned_tweet_class,\n",
    "        'id': generic_cleaned_tweet_id,\n",
    "        'date': generic_cleaned_tweet_date,\n",
    "        'query': generic_cleaned_tweet_query,\n",
    "        'user': generic_cleaned_tweet_user,\n",
    "        'text': generic_cleaned_tweet_text\n",
    "})\n",
    "\n",
    "generic_cleaned_tweets_df.head(10)"
   ]
  },
  {
   "cell_type": "code",
   "execution_count": 9,
   "metadata": {},
   "outputs": [
    {
     "data": {
      "text/html": [
       "<div>\n",
       "<style scoped>\n",
       "    .dataframe tbody tr th:only-of-type {\n",
       "        vertical-align: middle;\n",
       "    }\n",
       "\n",
       "    .dataframe tbody tr th {\n",
       "        vertical-align: top;\n",
       "    }\n",
       "\n",
       "    .dataframe thead th {\n",
       "        text-align: right;\n",
       "    }\n",
       "</style>\n",
       "<table border=\"1\" class=\"dataframe\">\n",
       "  <thead>\n",
       "    <tr style=\"text-align: right;\">\n",
       "      <th></th>\n",
       "      <th>id</th>\n",
       "      <th>sentiment</th>\n",
       "      <th>negative_reason</th>\n",
       "      <th>user</th>\n",
       "      <th>retweet_count</th>\n",
       "      <th>text</th>\n",
       "    </tr>\n",
       "  </thead>\n",
       "  <tbody>\n",
       "    <tr>\n",
       "      <th>0</th>\n",
       "      <td>5.703010e+17</td>\n",
       "      <td>positive</td>\n",
       "      <td>NaN</td>\n",
       "      <td>jnardino</td>\n",
       "      <td>0</td>\n",
       "      <td>@VirginAmerica plus you've added commercials t...</td>\n",
       "    </tr>\n",
       "    <tr>\n",
       "      <th>1</th>\n",
       "      <td>5.703010e+17</td>\n",
       "      <td>negative</td>\n",
       "      <td>Bad Flight</td>\n",
       "      <td>jnardino</td>\n",
       "      <td>0</td>\n",
       "      <td>@VirginAmerica it's really aggressive to blast...</td>\n",
       "    </tr>\n",
       "    <tr>\n",
       "      <th>2</th>\n",
       "      <td>5.703010e+17</td>\n",
       "      <td>negative</td>\n",
       "      <td>Can't Tell</td>\n",
       "      <td>jnardino</td>\n",
       "      <td>0</td>\n",
       "      <td>@VirginAmerica and it's a really big bad thing...</td>\n",
       "    </tr>\n",
       "    <tr>\n",
       "      <th>3</th>\n",
       "      <td>5.703010e+17</td>\n",
       "      <td>negative</td>\n",
       "      <td>Can't Tell</td>\n",
       "      <td>jnardino</td>\n",
       "      <td>0</td>\n",
       "      <td>@VirginAmerica seriously would pay $30 a fligh...</td>\n",
       "    </tr>\n",
       "    <tr>\n",
       "      <th>4</th>\n",
       "      <td>5.703010e+17</td>\n",
       "      <td>positive</td>\n",
       "      <td>NaN</td>\n",
       "      <td>cjmcginnis</td>\n",
       "      <td>0</td>\n",
       "      <td>@VirginAmerica yes, nearly every time I fly VX...</td>\n",
       "    </tr>\n",
       "    <tr>\n",
       "      <th>5</th>\n",
       "      <td>5.703000e+17</td>\n",
       "      <td>positive</td>\n",
       "      <td>NaN</td>\n",
       "      <td>dhepburn</td>\n",
       "      <td>0</td>\n",
       "      <td>@virginamerica Well, I didn'tâ€¦but NOW I DO! :-D</td>\n",
       "    </tr>\n",
       "    <tr>\n",
       "      <th>6</th>\n",
       "      <td>5.702950e+17</td>\n",
       "      <td>positive</td>\n",
       "      <td>NaN</td>\n",
       "      <td>YupitsTate</td>\n",
       "      <td>0</td>\n",
       "      <td>@VirginAmerica it was amazing, and arrived an ...</td>\n",
       "    </tr>\n",
       "    <tr>\n",
       "      <th>7</th>\n",
       "      <td>5.702900e+17</td>\n",
       "      <td>positive</td>\n",
       "      <td>NaN</td>\n",
       "      <td>HyperCamiLax</td>\n",
       "      <td>0</td>\n",
       "      <td>@VirginAmerica I &amp;lt;3 pretty graphics. so muc...</td>\n",
       "    </tr>\n",
       "    <tr>\n",
       "      <th>8</th>\n",
       "      <td>5.702900e+17</td>\n",
       "      <td>positive</td>\n",
       "      <td>NaN</td>\n",
       "      <td>HyperCamiLax</td>\n",
       "      <td>0</td>\n",
       "      <td>@VirginAmerica This is such a great deal! Alre...</td>\n",
       "    </tr>\n",
       "    <tr>\n",
       "      <th>9</th>\n",
       "      <td>5.702870e+17</td>\n",
       "      <td>positive</td>\n",
       "      <td>NaN</td>\n",
       "      <td>mollanderson</td>\n",
       "      <td>0</td>\n",
       "      <td>@VirginAmerica @virginmedia I'm flying your #f...</td>\n",
       "    </tr>\n",
       "  </tbody>\n",
       "</table>\n",
       "</div>"
      ],
      "text/plain": [
       "             id sentiment negative_reason          user  retweet_count  \\\n",
       "0  5.703010e+17  positive             NaN      jnardino              0   \n",
       "1  5.703010e+17  negative      Bad Flight      jnardino              0   \n",
       "2  5.703010e+17  negative      Can't Tell      jnardino              0   \n",
       "3  5.703010e+17  negative      Can't Tell      jnardino              0   \n",
       "4  5.703010e+17  positive             NaN    cjmcginnis              0   \n",
       "5  5.703000e+17  positive             NaN      dhepburn              0   \n",
       "6  5.702950e+17  positive             NaN    YupitsTate              0   \n",
       "7  5.702900e+17  positive             NaN  HyperCamiLax              0   \n",
       "8  5.702900e+17  positive             NaN  HyperCamiLax              0   \n",
       "9  5.702870e+17  positive             NaN  mollanderson              0   \n",
       "\n",
       "                                                text  \n",
       "0  @VirginAmerica plus you've added commercials t...  \n",
       "1  @VirginAmerica it's really aggressive to blast...  \n",
       "2  @VirginAmerica and it's a really big bad thing...  \n",
       "3  @VirginAmerica seriously would pay $30 a fligh...  \n",
       "4  @VirginAmerica yes, nearly every time I fly VX...  \n",
       "5  @virginamerica Well, I didn'tâ€¦but NOW I DO! :-D  \n",
       "6  @VirginAmerica it was amazing, and arrived an ...  \n",
       "7  @VirginAmerica I &lt;3 pretty graphics. so muc...  \n",
       "8  @VirginAmerica This is such a great deal! Alre...  \n",
       "9  @VirginAmerica @virginmedia I'm flying your #f...  "
      ]
     },
     "execution_count": 9,
     "metadata": {},
     "output_type": "execute_result"
    }
   ],
   "source": [
    "# Read 'US_airline_tweets.csv' and generate it as a dataframe\n",
    "US_airline_tw_df = pd.read_csv('US_airline_tweets.csv', sep=',', encoding='utf-8')\n",
    "US_airline_tw_df.head(10)"
   ]
  },
  {
   "cell_type": "code",
   "execution_count": 10,
   "metadata": {},
   "outputs": [
    {
     "name": "stderr",
     "output_type": "stream",
     "text": [
      "/home/jupyterlab/conda/lib/python3.6/site-packages/ipykernel_launcher.py:16: DeprecationWarning: The unescape method is deprecated and will be removed in 3.5, use html.unescape() instead.\n",
      "  app.launch_new_instance()\n"
     ]
    }
   ],
   "source": [
    "# Do data cleaning for US_airline column\n",
    "US_airline_clean_tw_id = US_airline_tw_df.iloc[:]['id']\n",
    "US_airline_clean_tw_sentiment = datacleaner(US_airline_tw_df.iloc[:]['sentiment'].tolist())\n",
    "US_airline_clean_tw_negative_reason = US_airline_tw_df.iloc[:]['negative_reason']\n",
    "US_airline_clean_tw_user = datacleaner(US_airline_tw_df.iloc[:]['user'].tolist())\n",
    "US_airline_clean_tw_retweet_count = US_airline_tw_df.iloc[:]['retweet_count']\n",
    "US_airline_clean_tw_text = datacleaner(US_airline_tw_df.iloc[:]['text'].tolist())"
   ]
  },
  {
   "cell_type": "code",
   "execution_count": 11,
   "metadata": {},
   "outputs": [
    {
     "data": {
      "text/html": [
       "<div>\n",
       "<style scoped>\n",
       "    .dataframe tbody tr th:only-of-type {\n",
       "        vertical-align: middle;\n",
       "    }\n",
       "\n",
       "    .dataframe tbody tr th {\n",
       "        vertical-align: top;\n",
       "    }\n",
       "\n",
       "    .dataframe thead th {\n",
       "        text-align: right;\n",
       "    }\n",
       "</style>\n",
       "<table border=\"1\" class=\"dataframe\">\n",
       "  <thead>\n",
       "    <tr style=\"text-align: right;\">\n",
       "      <th></th>\n",
       "      <th>id</th>\n",
       "      <th>sentiment</th>\n",
       "      <th>negative_reason</th>\n",
       "      <th>user</th>\n",
       "      <th>retweet_count</th>\n",
       "      <th>text</th>\n",
       "    </tr>\n",
       "  </thead>\n",
       "  <tbody>\n",
       "    <tr>\n",
       "      <th>0</th>\n",
       "      <td>5.703010e+17</td>\n",
       "      <td>positive</td>\n",
       "      <td>NaN</td>\n",
       "      <td>jnardino</td>\n",
       "      <td>0</td>\n",
       "      <td>virginamerica plus added commercials experienc...</td>\n",
       "    </tr>\n",
       "    <tr>\n",
       "      <th>1</th>\n",
       "      <td>5.703010e+17</td>\n",
       "      <td>negative</td>\n",
       "      <td>Bad Flight</td>\n",
       "      <td>jnardino</td>\n",
       "      <td>0</td>\n",
       "      <td>virginamerica really aggressive blast obnoxiou...</td>\n",
       "    </tr>\n",
       "    <tr>\n",
       "      <th>2</th>\n",
       "      <td>5.703010e+17</td>\n",
       "      <td>negative</td>\n",
       "      <td>Can't Tell</td>\n",
       "      <td>jnardino</td>\n",
       "      <td>0</td>\n",
       "      <td>virginamerica really big bad thing</td>\n",
       "    </tr>\n",
       "    <tr>\n",
       "      <th>3</th>\n",
       "      <td>5.703010e+17</td>\n",
       "      <td>negative</td>\n",
       "      <td>Can't Tell</td>\n",
       "      <td>jnardino</td>\n",
       "      <td>0</td>\n",
       "      <td>virginamerica seriously would pay 30 flight se...</td>\n",
       "    </tr>\n",
       "    <tr>\n",
       "      <th>4</th>\n",
       "      <td>5.703010e+17</td>\n",
       "      <td>positive</td>\n",
       "      <td>NaN</td>\n",
       "      <td>cjmcginnis</td>\n",
       "      <td>0</td>\n",
       "      <td>virginamerica yes nearly every time fly vx  ea...</td>\n",
       "    </tr>\n",
       "    <tr>\n",
       "      <th>5</th>\n",
       "      <td>5.703000e+17</td>\n",
       "      <td>positive</td>\n",
       "      <td>NaN</td>\n",
       "      <td>dhepburn</td>\n",
       "      <td>0</td>\n",
       "      <td>virginamerica well t</td>\n",
       "    </tr>\n",
       "    <tr>\n",
       "      <th>6</th>\n",
       "      <td>5.702950e+17</td>\n",
       "      <td>positive</td>\n",
       "      <td>NaN</td>\n",
       "      <td>yupitstate</td>\n",
       "      <td>0</td>\n",
       "      <td>virginamerica amazing arrived hour early good</td>\n",
       "    </tr>\n",
       "    <tr>\n",
       "      <th>7</th>\n",
       "      <td>5.702900e+17</td>\n",
       "      <td>positive</td>\n",
       "      <td>NaN</td>\n",
       "      <td>hypercamilax</td>\n",
       "      <td>0</td>\n",
       "      <td>virginamerica 3 pretty graphics much better mi...</td>\n",
       "    </tr>\n",
       "    <tr>\n",
       "      <th>8</th>\n",
       "      <td>5.702900e+17</td>\n",
       "      <td>positive</td>\n",
       "      <td>NaN</td>\n",
       "      <td>hypercamilax</td>\n",
       "      <td>0</td>\n",
       "      <td>virginamerica great deal already thinking 2nd ...</td>\n",
       "    </tr>\n",
       "    <tr>\n",
       "      <th>9</th>\n",
       "      <td>5.702870e+17</td>\n",
       "      <td>positive</td>\n",
       "      <td>NaN</td>\n",
       "      <td>mollanderson</td>\n",
       "      <td>0</td>\n",
       "      <td>virginamerica virginmedia flying fabulous sedu...</td>\n",
       "    </tr>\n",
       "  </tbody>\n",
       "</table>\n",
       "</div>"
      ],
      "text/plain": [
       "             id sentiment negative_reason          user  retweet_count  \\\n",
       "0  5.703010e+17  positive             NaN      jnardino              0   \n",
       "1  5.703010e+17  negative      Bad Flight      jnardino              0   \n",
       "2  5.703010e+17  negative      Can't Tell      jnardino              0   \n",
       "3  5.703010e+17  negative      Can't Tell      jnardino              0   \n",
       "4  5.703010e+17  positive             NaN    cjmcginnis              0   \n",
       "5  5.703000e+17  positive             NaN      dhepburn              0   \n",
       "6  5.702950e+17  positive             NaN    yupitstate              0   \n",
       "7  5.702900e+17  positive             NaN  hypercamilax              0   \n",
       "8  5.702900e+17  positive             NaN  hypercamilax              0   \n",
       "9  5.702870e+17  positive             NaN  mollanderson              0   \n",
       "\n",
       "                                                text  \n",
       "0  virginamerica plus added commercials experienc...  \n",
       "1  virginamerica really aggressive blast obnoxiou...  \n",
       "2                 virginamerica really big bad thing  \n",
       "3  virginamerica seriously would pay 30 flight se...  \n",
       "4  virginamerica yes nearly every time fly vx  ea...  \n",
       "5                               virginamerica well t  \n",
       "6      virginamerica amazing arrived hour early good  \n",
       "7  virginamerica 3 pretty graphics much better mi...  \n",
       "8  virginamerica great deal already thinking 2nd ...  \n",
       "9  virginamerica virginmedia flying fabulous sedu...  "
      ]
     },
     "execution_count": 11,
     "metadata": {},
     "output_type": "execute_result"
    }
   ],
   "source": [
    "#Generate a new dataframe for the cleaned us_airline tweets dataset\n",
    "us_airline_clean_tw_df = pd.DataFrame ({\n",
    "        'id': US_airline_clean_tw_id,\n",
    "        'sentiment': US_airline_clean_tw_sentiment,\n",
    "        'negative_reason': US_airline_clean_tw_negative_reason,\n",
    "        'user': US_airline_clean_tw_user,\n",
    "        'retweet_count': US_airline_clean_tw_retweet_count,\n",
    "        'text': US_airline_clean_tw_text\n",
    "})\n",
    "\n",
    "us_airline_clean_tw_df.head(10)"
   ]
  },
  {
   "cell_type": "markdown",
   "metadata": {},
   "source": [
    "# 2. Exploratory analysis"
   ]
  },
  {
   "cell_type": "code",
   "execution_count": 12,
   "metadata": {},
   "outputs": [],
   "source": [
    "USairlinescompany = ['virginamerica','united', 'jetblue', 'southwestair', 'usairways', 'americanair', 'delta', 'unknown']\n",
    "\n",
    "# The function is created to find the number of tweets for each airlines.\n",
    "def numberoftweetedairlines(US_airline_tw_df, USairlinescompany):\n",
    "    # create a list of counter for different airlines\n",
    "    list_counted_airlines = {}\n",
    "    # initalize the dictionary\n",
    "    for airline in USairlinescompany:\n",
    "        list_counted_airlines[airline] = 0\n",
    "        \n",
    "    for tw in US_airline_tw_df['text']:\n",
    "        tw = tw.split(' ')\n",
    "        if USairlinescompany[0] in tw:\n",
    "            list_counted_airlines[USairlinescompany[0]] = list_counted_airlines[USairlinescompany[0]] + 1\n",
    "            continue\n",
    "        elif USairlinescompany[1] in tw:\n",
    "            list_counted_airlines[USairlinescompany[1]] = list_counted_airlines[USairlinescompany[1]] + 1\n",
    "            continue\n",
    "        elif USairlinescompany[2] in tw:\n",
    "            list_counted_airlines[USairlinescompany[2]] = list_counted_airlines[USairlinescompany[2]] + 1\n",
    "            continue\n",
    "        elif USairlinescompany[3] in tw:\n",
    "            list_counted_airlines[USairlinescompany[3]] = list_counted_airlines[USairlinescompany[3]] + 1\n",
    "            continue\n",
    "        elif USairlinescompany[4] in tw:\n",
    "            list_counted_airlines[USairlinescompany[4]] = list_counted_airlines[USairlinescompany[4]] + 1\n",
    "            continue\n",
    "        elif USairlinescompany[5] in tw:\n",
    "            list_counted_airlines[USairlinescompany[5]] = list_counted_airlines[USairlinescompany[5]] + 1\n",
    "            continue\n",
    "        elif USairlinescompany[6] in tw:\n",
    "            list_counted_airlines[USairlinescompany[6]] = list_counted_airlines[USairlinescompany[6]] + 1\n",
    "            continue\n",
    "        else:\n",
    "            list_counted_airlines[USairlinescompany[7]] = list_counted_airlines[USairlinescompany[7]] + 1\n",
    "            continue\n",
    "            \n",
    "    return list_counted_airlines"
   ]
  },
  {
   "cell_type": "code",
   "execution_count": 13,
   "metadata": {},
   "outputs": [
    {
     "data": {
      "text/plain": [
       "{'virginamerica': 321,\n",
       " 'united': 3135,\n",
       " 'jetblue': 1488,\n",
       " 'southwestair': 1736,\n",
       " 'usairways': 2429,\n",
       " 'americanair': 2125,\n",
       " 'delta': 3,\n",
       " 'unknown': 304}"
      ]
     },
     "execution_count": 13,
     "metadata": {},
     "output_type": "execute_result"
    }
   ],
   "source": [
    "# count how many times each airlines were mentioned\n",
    "result = numberoftweetedairlines(us_airline_clean_tw_df, USairlinescompany)\n",
    "\n",
    "result"
   ]
  },
  {
   "cell_type": "code",
   "execution_count": 14,
   "metadata": {
    "scrolled": false
   },
   "outputs": [
    {
     "data": {
      "text/plain": [
       "Text(0.5, 1.0, 'The distribution of the US airlines of the tweets')"
      ]
     },
     "execution_count": 14,
     "metadata": {},
     "output_type": "execute_result"
    },
    {
     "data": {
      "image/png": "[encoded data removed]",
      "text/plain": [
       "<Figure size 432x288 with 1 Axes>"
      ]
     },
     "metadata": {
      "needs_background": "light"
     },
     "output_type": "display_data"
    }
   ],
   "source": [
    "# plot a histogram\n",
    "l = range(len(result.keys()))\n",
    "plt.bar(l, result.values())\n",
    "plt.xticks(l, result.keys(),rotation=55)\n",
    "plt.xlabel('Airline')\n",
    "plt.ylabel('# of tweets')\n",
    "plt.title('The distribution of the US airlines of the tweets')"
   ]
  },
  {
   "cell_type": "markdown",
   "metadata": {},
   "source": [
    "Above graph shows that majority of the tweet are about united airlines. On the other hand, numbers of tweets about virgin america and delta are relatively small. The reason why there are 'unknown' airlines showing in the graph is because some tweets doesn't state the name of the airline directly. "
   ]
  },
  {
   "cell_type": "markdown",
   "metadata": {},
   "source": [
    "For the next part, the histogram will be generated to view how many generic tweets showed public opinion about certain airlines."
   ]
  },
  {
   "cell_type": "code",
   "execution_count": 15,
   "metadata": {},
   "outputs": [],
   "source": [
    "generic_result = numberoftweetedairlines(generic_cleaned_tweets_df, USairlinescompany)"
   ]
  },
  {
   "cell_type": "code",
   "execution_count": 16,
   "metadata": {},
   "outputs": [
    {
     "data": {
      "text/plain": [
       "{'virginamerica': 0,\n",
       " 'united': 69,\n",
       " 'jetblue': 3,\n",
       " 'southwestair': 3,\n",
       " 'usairways': 1,\n",
       " 'americanair': 0,\n",
       " 'delta': 9,\n",
       " 'unknown': 199915}"
      ]
     },
     "execution_count": 16,
     "metadata": {},
     "output_type": "execute_result"
    }
   ],
   "source": [
    "generic_result"
   ]
  },
  {
   "cell_type": "code",
   "execution_count": 17,
   "metadata": {},
   "outputs": [
    {
     "data": {
      "text/plain": [
       "Text(0.5, 1.0, 'The distribution of the US airlines of the generic tweets')"
      ]
     },
     "execution_count": 17,
     "metadata": {},
     "output_type": "execute_result"
    },
    {
     "data": {
      "image/png": "[encoded data removed]",
      "text/plain": [
       "<Figure size 432x288 with 1 Axes>"
      ]
     },
     "metadata": {
      "needs_background": "light"
     },
     "output_type": "display_data"
    }
   ],
   "source": [
    "# plot a histogram\n",
    "l = range(len(generic_result.keys()))\n",
    "plt.bar(l, generic_result.values())\n",
    "plt.xticks(l, generic_result.keys(),rotation=55)\n",
    "plt.xlabel('Airline')\n",
    "plt.ylabel('# of tweets')\n",
    "plt.title('The distribution of the US airlines of the generic tweets')"
   ]
  },
  {
   "cell_type": "markdown",
   "metadata": {},
   "source": [
    "As the histogram, most of the tweets doesn't talk about airlines; which means, the airline companies are totally unrelative to the generic tweets."
   ]
  },
  {
   "cell_type": "markdown",
   "metadata": {},
   "source": [
    "# 3. Model Preparation"
   ]
  },
  {
   "cell_type": "code",
   "execution_count": 18,
   "metadata": {},
   "outputs": [],
   "source": [
    "# This function is created to count the number of every word in the file\n",
    "# Before using the counter to count the words, the string needs to be tokenized.\n",
    "def count_words_corpus(file):    \n",
    "    tokenizer = RegexpTokenizer(r'\\w+')\n",
    "    word_counter = Counter()\n",
    "    for content in file:\n",
    "        words = tokenizer.tokenize(content)\n",
    "        word_counter.update(words)\n",
    "    return word_counter"
   ]
  },
  {
   "cell_type": "code",
   "execution_count": 19,
   "metadata": {},
   "outputs": [],
   "source": [
    "# This function is created to count the word frequency up to 500 words of the input file.\n",
    "def feature(file, numberwords = 500):\n",
    "    # Calculate word count in corpus\n",
    "    words_counted = count_words_corpus(file)\n",
    "    \n",
    "    # Select the most common 500 words\n",
    "    common_words = [word for (word, freq) in words_counted.most_common(numberwords)]\n",
    "    \n",
    "    # Generate the list of dataset based on the selected features (X)\n",
    "    df = []\n",
    "    for content in file:\n",
    "        words = content.split(' ')\n",
    "        df.append([1 if word in words else 0 for word in common_words]) \n",
    "    X = pd.DataFrame(df, columns = common_words)\n",
    "    \n",
    "    # Create a dataframe of features y\n",
    "    y = [0, 4]   #the polarity of each tweet (0 = negative emotion, 4 = positive emotion)\n",
    "    \n",
    "    return X, y"
   ]
  },
  {
   "cell_type": "code",
   "execution_count": 20,
   "metadata": {},
   "outputs": [
    {
     "name": "stderr",
     "output_type": "stream",
     "text": [
      "/home/jupyterlab/conda/lib/python3.6/site-packages/ipykernel_launcher.py:16: DeprecationWarning: The unescape method is deprecated and will be removed in 3.5, use html.unescape() instead.\n",
      "  app.launch_new_instance()\n"
     ]
    }
   ],
   "source": [
    "# data clean the generic tweets\n",
    "generic_tweet_list_cleaned = datacleaner(generic_tweets)"
   ]
  },
  {
   "cell_type": "code",
   "execution_count": 21,
   "metadata": {},
   "outputs": [],
   "source": [
    "# get the features, targets dataframe\n",
    "feature_df, target_df = feature(generic_tweets_text)"
   ]
  },
  {
   "cell_type": "code",
   "execution_count": 22,
   "metadata": {},
   "outputs": [
    {
     "data": {
      "text/html": [
       "<div>\n",
       "<style scoped>\n",
       "    .dataframe tbody tr th:only-of-type {\n",
       "        vertical-align: middle;\n",
       "    }\n",
       "\n",
       "    .dataframe tbody tr th {\n",
       "        vertical-align: top;\n",
       "    }\n",
       "\n",
       "    .dataframe thead th {\n",
       "        text-align: right;\n",
       "    }\n",
       "</style>\n",
       "<table border=\"1\" class=\"dataframe\">\n",
       "  <thead>\n",
       "    <tr style=\"text-align: right;\">\n",
       "      <th></th>\n",
       "      <th>good</th>\n",
       "      <th>day</th>\n",
       "      <th>get</th>\n",
       "      <th>like</th>\n",
       "      <th>today</th>\n",
       "      <th>go</th>\n",
       "      <th>work</th>\n",
       "      <th>going</th>\n",
       "      <th>back</th>\n",
       "      <th>love</th>\n",
       "      <th>...</th>\n",
       "      <th>spring</th>\n",
       "      <th>meeting</th>\n",
       "      <th>yep</th>\n",
       "      <th>movies</th>\n",
       "      <th>college</th>\n",
       "      <th>update</th>\n",
       "      <th>problem</th>\n",
       "      <th>agree</th>\n",
       "      <th>open</th>\n",
       "      <th>interesting</th>\n",
       "    </tr>\n",
       "  </thead>\n",
       "  <tbody>\n",
       "    <tr>\n",
       "      <th>0</th>\n",
       "      <td>0</td>\n",
       "      <td>0</td>\n",
       "      <td>0</td>\n",
       "      <td>0</td>\n",
       "      <td>0</td>\n",
       "      <td>0</td>\n",
       "      <td>0</td>\n",
       "      <td>0</td>\n",
       "      <td>0</td>\n",
       "      <td>0</td>\n",
       "      <td>...</td>\n",
       "      <td>0</td>\n",
       "      <td>0</td>\n",
       "      <td>0</td>\n",
       "      <td>0</td>\n",
       "      <td>0</td>\n",
       "      <td>0</td>\n",
       "      <td>0</td>\n",
       "      <td>0</td>\n",
       "      <td>0</td>\n",
       "      <td>0</td>\n",
       "    </tr>\n",
       "    <tr>\n",
       "      <th>1</th>\n",
       "      <td>0</td>\n",
       "      <td>0</td>\n",
       "      <td>0</td>\n",
       "      <td>0</td>\n",
       "      <td>1</td>\n",
       "      <td>0</td>\n",
       "      <td>0</td>\n",
       "      <td>0</td>\n",
       "      <td>0</td>\n",
       "      <td>0</td>\n",
       "      <td>...</td>\n",
       "      <td>0</td>\n",
       "      <td>0</td>\n",
       "      <td>0</td>\n",
       "      <td>0</td>\n",
       "      <td>0</td>\n",
       "      <td>1</td>\n",
       "      <td>0</td>\n",
       "      <td>0</td>\n",
       "      <td>0</td>\n",
       "      <td>0</td>\n",
       "    </tr>\n",
       "    <tr>\n",
       "      <th>2</th>\n",
       "      <td>0</td>\n",
       "      <td>0</td>\n",
       "      <td>0</td>\n",
       "      <td>0</td>\n",
       "      <td>0</td>\n",
       "      <td>1</td>\n",
       "      <td>0</td>\n",
       "      <td>0</td>\n",
       "      <td>0</td>\n",
       "      <td>0</td>\n",
       "      <td>...</td>\n",
       "      <td>0</td>\n",
       "      <td>0</td>\n",
       "      <td>0</td>\n",
       "      <td>0</td>\n",
       "      <td>0</td>\n",
       "      <td>0</td>\n",
       "      <td>0</td>\n",
       "      <td>0</td>\n",
       "      <td>0</td>\n",
       "      <td>0</td>\n",
       "    </tr>\n",
       "    <tr>\n",
       "      <th>3</th>\n",
       "      <td>0</td>\n",
       "      <td>0</td>\n",
       "      <td>0</td>\n",
       "      <td>1</td>\n",
       "      <td>0</td>\n",
       "      <td>0</td>\n",
       "      <td>0</td>\n",
       "      <td>0</td>\n",
       "      <td>0</td>\n",
       "      <td>0</td>\n",
       "      <td>...</td>\n",
       "      <td>0</td>\n",
       "      <td>0</td>\n",
       "      <td>0</td>\n",
       "      <td>0</td>\n",
       "      <td>0</td>\n",
       "      <td>0</td>\n",
       "      <td>0</td>\n",
       "      <td>0</td>\n",
       "      <td>0</td>\n",
       "      <td>0</td>\n",
       "    </tr>\n",
       "    <tr>\n",
       "      <th>4</th>\n",
       "      <td>0</td>\n",
       "      <td>0</td>\n",
       "      <td>0</td>\n",
       "      <td>0</td>\n",
       "      <td>0</td>\n",
       "      <td>0</td>\n",
       "      <td>0</td>\n",
       "      <td>0</td>\n",
       "      <td>0</td>\n",
       "      <td>0</td>\n",
       "      <td>...</td>\n",
       "      <td>0</td>\n",
       "      <td>0</td>\n",
       "      <td>0</td>\n",
       "      <td>0</td>\n",
       "      <td>0</td>\n",
       "      <td>0</td>\n",
       "      <td>0</td>\n",
       "      <td>0</td>\n",
       "      <td>0</td>\n",
       "      <td>0</td>\n",
       "    </tr>\n",
       "  </tbody>\n",
       "</table>\n",
       "<p>5 rows × 500 columns</p>\n",
       "</div>"
      ],
      "text/plain": [
       "   good  day  get  like  today  go  work  going  back  love  ...  spring  \\\n",
       "0     0    0    0     0      0   0     0      0     0     0  ...       0   \n",
       "1     0    0    0     0      1   0     0      0     0     0  ...       0   \n",
       "2     0    0    0     0      0   1     0      0     0     0  ...       0   \n",
       "3     0    0    0     1      0   0     0      0     0     0  ...       0   \n",
       "4     0    0    0     0      0   0     0      0     0     0  ...       0   \n",
       "\n",
       "   meeting  yep  movies  college  update  problem  agree  open  interesting  \n",
       "0        0    0       0        0       0        0      0     0            0  \n",
       "1        0    0       0        0       1        0      0     0            0  \n",
       "2        0    0       0        0       0        0      0     0            0  \n",
       "3        0    0       0        0       0        0      0     0            0  \n",
       "4        0    0       0        0       0        0      0     0            0  \n",
       "\n",
       "[5 rows x 500 columns]"
      ]
     },
     "execution_count": 22,
     "metadata": {},
     "output_type": "execute_result"
    }
   ],
   "source": [
    "feature_df.head(5)"
   ]
  },
  {
   "cell_type": "code",
   "execution_count": 23,
   "metadata": {},
   "outputs": [
    {
     "name": "stderr",
     "output_type": "stream",
     "text": [
      "/home/jupyterlab/conda/lib/python3.6/site-packages/ipykernel_launcher.py:1: FutureWarning: Method .as_matrix will be removed in a future version. Use .values instead.\n",
      "  \"\"\"Entry point for launching an IPython kernel.\n"
     ]
    },
    {
     "data": {
      "text/plain": [
       "array([[0, 0, 0, ..., 0, 0, 0],\n",
       "       [0, 0, 0, ..., 0, 0, 0],\n",
       "       [0, 0, 0, ..., 0, 0, 0],\n",
       "       ...,\n",
       "       [0, 0, 1, ..., 0, 0, 0],\n",
       "       [0, 0, 0, ..., 0, 0, 0],\n",
       "       [0, 0, 0, ..., 0, 0, 0]])"
      ]
     },
     "execution_count": 23,
     "metadata": {},
     "output_type": "execute_result"
    }
   ],
   "source": [
    "features = feature_df.as_matrix()\n",
    "features"
   ]
  },
  {
   "cell_type": "code",
   "execution_count": 24,
   "metadata": {},
   "outputs": [
    {
     "name": "stderr",
     "output_type": "stream",
     "text": [
      "/home/jupyterlab/conda/lib/python3.6/site-packages/ipykernel_launcher.py:2: FutureWarning: Method .as_matrix will be removed in a future version. Use .values instead.\n",
      "  \n"
     ]
    },
    {
     "data": {
      "text/plain": [
       "array(['0', '0', '0', ..., '4', '4', '4'], dtype=object)"
      ]
     },
     "execution_count": 24,
     "metadata": {},
     "output_type": "execute_result"
    }
   ],
   "source": [
    "target_df = generic_cleaned_tweets_df['class']\n",
    "target = target_df.as_matrix()\n",
    "target"
   ]
  },
  {
   "cell_type": "code",
   "execution_count": 25,
   "metadata": {},
   "outputs": [],
   "source": [
    "#split data ramdomly into training data(70%) and test data(30%)\n",
    "feature_train, feature_test, target_train, target_test = train_test_split(features, target, test_size=0.3, random_state=42)"
   ]
  },
  {
   "cell_type": "markdown",
   "metadata": {},
   "source": [
    "# 4. Model Implementation"
   ]
  },
  {
   "cell_type": "code",
   "execution_count": 26,
   "metadata": {},
   "outputs": [],
   "source": [
    "# The function is created to do logistic regresssion on training and test set.\n",
    "def lrmodel(feature_train, feature_test, target_train, target_test):\n",
    "\n",
    "    # train a logistic regression classifier\n",
    "    lrclassifier = LogisticRegression(C=1.0).fit(feature_train, target_train)\n",
    "\n",
    "    # predict on train and test set\n",
    "    y_train_predict = lrclassifier.predict(feature_train)\n",
    "    y_test_predict = lrclassifier.predict(feature_test)\n",
    "\n",
    "    from sklearn.metrics import accuracy_score, confusion_matrix\n",
    "    \n",
    "    # calculate train and test accuracy\n",
    "    train_accuracy = accuracy_score(target_train, y_train_predict)\n",
    "    test_accuracy = accuracy_score(target_test, y_test_predict)\n",
    "\n",
    "    # report results\n",
    "    print(\"Train accuracy: {}\".format(train_accuracy))\n",
    "    print(\"Test accuracy: {}\".format(test_accuracy))\n",
    "    return train_accuracy, test_accuracy"
   ]
  },
  {
   "cell_type": "code",
   "execution_count": 27,
   "metadata": {},
   "outputs": [
    {
     "name": "stderr",
     "output_type": "stream",
     "text": [
      "/home/jupyterlab/conda/lib/python3.6/site-packages/sklearn/linear_model/logistic.py:433: FutureWarning: Default solver will be changed to 'lbfgs' in 0.22. Specify a solver to silence this warning.\n",
      "  FutureWarning)\n"
     ]
    },
    {
     "name": "stdout",
     "output_type": "stream",
     "text": [
      "Train accuracy: 0.6996428571428571\n",
      "Test accuracy: 0.6980333333333333\n"
     ]
    }
   ],
   "source": [
    "#apply logistic regression model on generic tweets \n",
    "train_accuracy, test_accuracy = lrmodel(feature_train, feature_test, target_train, target_test)"
   ]
  },
  {
   "cell_type": "markdown",
   "metadata": {},
   "source": [
    "As we apply logistic regression model on generic tweets, the train and test accuaracy are calculated as 0.6984214,0.6973666667, respectively."
   ]
  },
  {
   "cell_type": "code",
   "execution_count": 29,
   "metadata": {},
   "outputs": [],
   "source": [
    "#  get the features, targets dataframe\n",
    "feature_df_us_air, target_df_us_air = feature(US_airline_clean_tw_text)"
   ]
  },
  {
   "cell_type": "code",
   "execution_count": 30,
   "metadata": {},
   "outputs": [
    {
     "name": "stderr",
     "output_type": "stream",
     "text": [
      "/home/jupyterlab/conda/lib/python3.6/site-packages/ipykernel_launcher.py:1: FutureWarning: Method .as_matrix will be removed in a future version. Use .values instead.\n",
      "  \"\"\"Entry point for launching an IPython kernel.\n"
     ]
    },
    {
     "data": {
      "text/plain": [
       "array([[0, 0, 0, ..., 0, 0, 0],\n",
       "       [0, 0, 0, ..., 0, 0, 0],\n",
       "       [0, 0, 0, ..., 0, 0, 0],\n",
       "       ...,\n",
       "       [0, 1, 0, ..., 0, 0, 0],\n",
       "       [0, 1, 0, ..., 0, 0, 0],\n",
       "       [0, 1, 0, ..., 0, 0, 0]])"
      ]
     },
     "execution_count": 30,
     "metadata": {},
     "output_type": "execute_result"
    }
   ],
   "source": [
    "features_usair = feature_df_us_air.as_matrix()\n",
    "features_usair"
   ]
  },
  {
   "cell_type": "code",
   "execution_count": 31,
   "metadata": {},
   "outputs": [
    {
     "name": "stderr",
     "output_type": "stream",
     "text": [
      "/home/jupyterlab/conda/lib/python3.6/site-packages/ipykernel_launcher.py:2: FutureWarning: Method .as_matrix will be removed in a future version. Use .values instead.\n",
      "  \n"
     ]
    },
    {
     "data": {
      "text/plain": [
       "array(['positive', 'negative', 'negative', ..., 'positive', 'negative',\n",
       "       'negative'], dtype=object)"
      ]
     },
     "execution_count": 31,
     "metadata": {},
     "output_type": "execute_result"
    }
   ],
   "source": [
    "target_df_us_air = us_airline_clean_tw_df['sentiment']\n",
    "target_usair = target_df_us_air.as_matrix()\n",
    "target_usair"
   ]
  },
  {
   "cell_type": "code",
   "execution_count": 32,
   "metadata": {},
   "outputs": [],
   "source": [
    "#split data ramdomly into training data(70%) and test data(30%)\n",
    "feature_train_us, feature_test_us, target_train_us, target_test_us = train_test_split(features_usair, target_usair, test_size=0.3, random_state=42)"
   ]
  },
  {
   "cell_type": "code",
   "execution_count": 33,
   "metadata": {},
   "outputs": [
    {
     "name": "stderr",
     "output_type": "stream",
     "text": [
      "/home/jupyterlab/conda/lib/python3.6/site-packages/sklearn/linear_model/logistic.py:433: FutureWarning: Default solver will be changed to 'lbfgs' in 0.22. Specify a solver to silence this warning.\n",
      "  FutureWarning)\n"
     ]
    },
    {
     "name": "stdout",
     "output_type": "stream",
     "text": [
      "Train accuracy: 0.9150779896013865\n",
      "Test accuracy: 0.8963326595437482\n"
     ]
    }
   ],
   "source": [
    "#apply logistic regression model on us airline tweets \n",
    "train_acccuary_usairline, test_accuracy_usairline = lrmodel(feature_train_us, feature_test_us, target_train_us, target_test_us)"
   ]
  },
  {
   "cell_type": "markdown",
   "metadata": {},
   "source": [
    "The above result shows that logistic regression model works better on US airline tweets data set. The reason could be that US airline tweets contains more keywords about certain airlines compared to generic tweets."
   ]
  },
  {
   "cell_type": "markdown",
   "metadata": {},
   "source": [
    "Split the negative US airline tweets into training data (70%) and test data (30%)."
   ]
  },
  {
   "cell_type": "code",
   "execution_count": 34,
   "metadata": {},
   "outputs": [],
   "source": [
    "# count how many negative tweets are in in US_airline tweets set\n",
    "def negativeustweets(us_airline_clean_tw_df, thred = 'negative'):\n",
    "    List = []\n",
    "    for i in range(len(us_airline_clean_tw_df['sentiment'])):\n",
    "        if us_airline_clean_tw_df['sentiment'][i] == thred:\n",
    "            List.append(i)\n",
    "    return List"
   ]
  },
  {
   "cell_type": "code",
   "execution_count": 35,
   "metadata": {},
   "outputs": [],
   "source": [
    "list_index_negUsAirTweets = negativeustweets(us_airline_clean_tw_df)"
   ]
  },
  {
   "cell_type": "code",
   "execution_count": 36,
   "metadata": {},
   "outputs": [],
   "source": [
    "#The function is created to remove positive sentiments and show only negative ones.\n",
    "def onlynegative(df):\n",
    "\n",
    "    rows_list = []\n",
    "    new_df = pd.DataFrame(columns=['id', 'sentiment', 'negative_reason', 'user', 'retweet_count','text'])\n",
    "    n = 0\n",
    "    for i in range(len(df['sentiment'])):\n",
    "        if df.loc[i,'sentiment'] == 'negative':\n",
    "            rows_list.append(df.loc[i,:])\n",
    "    new_df = pd.DataFrame(rows_list) \n",
    "    return new_df"
   ]
  },
  {
   "cell_type": "code",
   "execution_count": 37,
   "metadata": {},
   "outputs": [],
   "source": [
    "# return data frame only contains negative feedback\n",
    "Negative_USAir_df = onlynegative(us_airline_clean_tw_df)"
   ]
  },
  {
   "cell_type": "code",
   "execution_count": 38,
   "metadata": {},
   "outputs": [
    {
     "data": {
      "text/html": [
       "<div>\n",
       "<style scoped>\n",
       "    .dataframe tbody tr th:only-of-type {\n",
       "        vertical-align: middle;\n",
       "    }\n",
       "\n",
       "    .dataframe tbody tr th {\n",
       "        vertical-align: top;\n",
       "    }\n",
       "\n",
       "    .dataframe thead th {\n",
       "        text-align: right;\n",
       "    }\n",
       "</style>\n",
       "<table border=\"1\" class=\"dataframe\">\n",
       "  <thead>\n",
       "    <tr style=\"text-align: right;\">\n",
       "      <th></th>\n",
       "      <th>id</th>\n",
       "      <th>sentiment</th>\n",
       "      <th>negative_reason</th>\n",
       "      <th>user</th>\n",
       "      <th>retweet_count</th>\n",
       "      <th>text</th>\n",
       "    </tr>\n",
       "  </thead>\n",
       "  <tbody>\n",
       "    <tr>\n",
       "      <th>1</th>\n",
       "      <td>5.703010e+17</td>\n",
       "      <td>negative</td>\n",
       "      <td>Bad Flight</td>\n",
       "      <td>jnardino</td>\n",
       "      <td>0</td>\n",
       "      <td>virginamerica really aggressive blast obnoxiou...</td>\n",
       "    </tr>\n",
       "    <tr>\n",
       "      <th>2</th>\n",
       "      <td>5.703010e+17</td>\n",
       "      <td>negative</td>\n",
       "      <td>Can't Tell</td>\n",
       "      <td>jnardino</td>\n",
       "      <td>0</td>\n",
       "      <td>virginamerica really big bad thing</td>\n",
       "    </tr>\n",
       "    <tr>\n",
       "      <th>3</th>\n",
       "      <td>5.703010e+17</td>\n",
       "      <td>negative</td>\n",
       "      <td>Can't Tell</td>\n",
       "      <td>jnardino</td>\n",
       "      <td>0</td>\n",
       "      <td>virginamerica seriously would pay 30 flight se...</td>\n",
       "    </tr>\n",
       "    <tr>\n",
       "      <th>11</th>\n",
       "      <td>5.702820e+17</td>\n",
       "      <td>negative</td>\n",
       "      <td>Late Flight</td>\n",
       "      <td>smartwatermelon</td>\n",
       "      <td>0</td>\n",
       "      <td>virginamerica sfo pdx schedule still mia</td>\n",
       "    </tr>\n",
       "    <tr>\n",
       "      <th>13</th>\n",
       "      <td>5.702770e+17</td>\n",
       "      <td>negative</td>\n",
       "      <td>Bad Flight</td>\n",
       "      <td>heatherovieda</td>\n",
       "      <td>0</td>\n",
       "      <td>virginamerica flew nyc sfo last week fully sit...</td>\n",
       "    </tr>\n",
       "    <tr>\n",
       "      <th>16</th>\n",
       "      <td>5.702660e+17</td>\n",
       "      <td>negative</td>\n",
       "      <td>Can't Tell</td>\n",
       "      <td>missgj</td>\n",
       "      <td>0</td>\n",
       "      <td>virginamerica first fares may three times than...</td>\n",
       "    </tr>\n",
       "    <tr>\n",
       "      <th>19</th>\n",
       "      <td>5.702570e+17</td>\n",
       "      <td>negative</td>\n",
       "      <td>Customer Service Issue</td>\n",
       "      <td>ayeevickiee</td>\n",
       "      <td>0</td>\n",
       "      <td>virginamerica guys messed seating reserved sea...</td>\n",
       "    </tr>\n",
       "    <tr>\n",
       "      <th>20</th>\n",
       "      <td>5.702490e+17</td>\n",
       "      <td>negative</td>\n",
       "      <td>Customer Service Issue</td>\n",
       "      <td>leora13</td>\n",
       "      <td>0</td>\n",
       "      <td>virginamerica status match program applied thr...</td>\n",
       "    </tr>\n",
       "    <tr>\n",
       "      <th>21</th>\n",
       "      <td>5.702400e+17</td>\n",
       "      <td>negative</td>\n",
       "      <td>Can't Tell</td>\n",
       "      <td>meredithjlynn</td>\n",
       "      <td>0</td>\n",
       "      <td>virginamerica happened 2 ur vegan food options...</td>\n",
       "    </tr>\n",
       "    <tr>\n",
       "      <th>22</th>\n",
       "      <td>5.702080e+17</td>\n",
       "      <td>negative</td>\n",
       "      <td>Bad Flight</td>\n",
       "      <td>blackjackpro911</td>\n",
       "      <td>0</td>\n",
       "      <td>virginamerica amazing thatn get cold air vents...</td>\n",
       "    </tr>\n",
       "  </tbody>\n",
       "</table>\n",
       "</div>"
      ],
      "text/plain": [
       "              id sentiment         negative_reason             user  \\\n",
       "1   5.703010e+17  negative              Bad Flight         jnardino   \n",
       "2   5.703010e+17  negative              Can't Tell         jnardino   \n",
       "3   5.703010e+17  negative              Can't Tell         jnardino   \n",
       "11  5.702820e+17  negative             Late Flight  smartwatermelon   \n",
       "13  5.702770e+17  negative              Bad Flight    heatherovieda   \n",
       "16  5.702660e+17  negative              Can't Tell           missgj   \n",
       "19  5.702570e+17  negative  Customer Service Issue      ayeevickiee   \n",
       "20  5.702490e+17  negative  Customer Service Issue          leora13   \n",
       "21  5.702400e+17  negative              Can't Tell    meredithjlynn   \n",
       "22  5.702080e+17  negative              Bad Flight  blackjackpro911   \n",
       "\n",
       "    retweet_count                                               text  \n",
       "1               0  virginamerica really aggressive blast obnoxiou...  \n",
       "2               0                 virginamerica really big bad thing  \n",
       "3               0  virginamerica seriously would pay 30 flight se...  \n",
       "11              0           virginamerica sfo pdx schedule still mia  \n",
       "13              0  virginamerica flew nyc sfo last week fully sit...  \n",
       "16              0  virginamerica first fares may three times than...  \n",
       "19              0  virginamerica guys messed seating reserved sea...  \n",
       "20              0  virginamerica status match program applied thr...  \n",
       "21              0  virginamerica happened 2 ur vegan food options...  \n",
       "22              0  virginamerica amazing thatn get cold air vents...  "
      ]
     },
     "execution_count": 38,
     "metadata": {},
     "output_type": "execute_result"
    }
   ],
   "source": [
    "Negative_USAir_df.head(10)"
   ]
  },
  {
   "cell_type": "code",
   "execution_count": 39,
   "metadata": {},
   "outputs": [
    {
     "data": {
      "text/plain": [
       "['bad flight',\n",
       " \"can't tell\",\n",
       " \"can't tell\",\n",
       " 'late flight',\n",
       " 'bad flight',\n",
       " \"can't tell\",\n",
       " 'customer service issue',\n",
       " 'customer service issue',\n",
       " \"can't tell\"]"
      ]
     },
     "execution_count": 39,
     "metadata": {},
     "output_type": "execute_result"
    }
   ],
   "source": [
    "# data clean the negative reasons\n",
    "negative_reasons= Negative_USAir_df['negative_reason'].tolist()\n",
    "negative_reasons = [word.lower() for word in negative_reasons]\n",
    "negative_reasons[0:9]"
   ]
  },
  {
   "cell_type": "code",
   "execution_count": 40,
   "metadata": {},
   "outputs": [],
   "source": [
    "# The function is created to remove overlapped negative reasons in nagative_reasons list above.\n",
    "\n",
    "def negativereasons(negative_reasons):\n",
    "    \"\"\"\n",
    "        The function is used to get all the negative reasons in neg_reason_clean_list,\n",
    "        each reason will appear one time in new list.\n",
    "    \"\"\"\n",
    "    list = []\n",
    "    for reason in negative_reasons:\n",
    "        if reason not in list:\n",
    "            list.append(reason)\n",
    "            \n",
    "    return list"
   ]
  },
  {
   "cell_type": "code",
   "execution_count": 41,
   "metadata": {},
   "outputs": [
    {
     "data": {
      "text/plain": [
       "['bad flight',\n",
       " \"can't tell\",\n",
       " 'late flight',\n",
       " 'customer service issue',\n",
       " 'flight booking problems',\n",
       " 'lost luggage',\n",
       " 'flight attendant complaints',\n",
       " 'cancelled flight',\n",
       " 'damaged luggage',\n",
       " 'longlines']"
      ]
     },
     "execution_count": 41,
     "metadata": {},
     "output_type": "execute_result"
    }
   ],
   "source": [
    "# return the list of negative reasons\n",
    "negative_reasons_list = negativereasons(negative_reasons)\n",
    "negative_reasons_list"
   ]
  },
  {
   "cell_type": "code",
   "execution_count": 43,
   "metadata": {},
   "outputs": [],
   "source": [
    "#  get the features, targets dataframe\n",
    "feature_df_usAir_negative, target_df_usAir_negative = feature(Negative_USAir_df['text'])"
   ]
  },
  {
   "cell_type": "code",
   "execution_count": 44,
   "metadata": {},
   "outputs": [
    {
     "data": {
      "text/plain": [
       "(9178, 500)"
      ]
     },
     "execution_count": 44,
     "metadata": {},
     "output_type": "execute_result"
    }
   ],
   "source": [
    "feature_df_usAir_negative.shape"
   ]
  },
  {
   "cell_type": "code",
   "execution_count": 45,
   "metadata": {},
   "outputs": [
    {
     "name": "stderr",
     "output_type": "stream",
     "text": [
      "/home/jupyterlab/conda/lib/python3.6/site-packages/ipykernel_launcher.py:1: FutureWarning: Method .as_matrix will be removed in a future version. Use .values instead.\n",
      "  \"\"\"Entry point for launching an IPython kernel.\n"
     ]
    },
    {
     "data": {
      "text/plain": [
       "array([[0, 0, 0, ..., 0, 0, 0],\n",
       "       [0, 0, 0, ..., 0, 0, 0],\n",
       "       [1, 0, 0, ..., 0, 0, 0],\n",
       "       ...,\n",
       "       [0, 0, 0, ..., 0, 0, 0],\n",
       "       [1, 0, 0, ..., 0, 0, 0],\n",
       "       [1, 0, 0, ..., 0, 0, 0]])"
      ]
     },
     "execution_count": 45,
     "metadata": {},
     "output_type": "execute_result"
    }
   ],
   "source": [
    "features_usAir_negative = feature_df_usAir_negative.as_matrix()\n",
    "features_usAir_negative"
   ]
  },
  {
   "cell_type": "code",
   "execution_count": 46,
   "metadata": {},
   "outputs": [
    {
     "name": "stderr",
     "output_type": "stream",
     "text": [
      "/home/jupyterlab/conda/lib/python3.6/site-packages/ipykernel_launcher.py:2: FutureWarning: Method .as_matrix will be removed in a future version. Use .values instead.\n",
      "  \n"
     ]
    },
    {
     "data": {
      "text/plain": [
       "array(['Bad Flight', \"Can't Tell\", \"Can't Tell\", ..., 'Late Flight',\n",
       "       'Customer Service Issue', 'Customer Service Issue'], dtype=object)"
      ]
     },
     "execution_count": 46,
     "metadata": {},
     "output_type": "execute_result"
    }
   ],
   "source": [
    "target_df_us_air_negative = Negative_USAir_df['negative_reason']\n",
    "target_usAir_negative = target_df_us_air_negative.as_matrix()\n",
    "target_usAir_negative"
   ]
  },
  {
   "cell_type": "code",
   "execution_count": 47,
   "metadata": {},
   "outputs": [],
   "source": [
    "#split the negative tweets ramdomly into training data(70%) and test data(30%)\n",
    "feature_train_us_negative, feature_test_us_negative, target_train_us_negative, target_test_us_negative = train_test_split(features_usAir_negative, target_usAir_negative, test_size=0.3, random_state=42)"
   ]
  },
  {
   "cell_type": "code",
   "execution_count": 48,
   "metadata": {},
   "outputs": [
    {
     "name": "stderr",
     "output_type": "stream",
     "text": [
      "/home/jupyterlab/conda/lib/python3.6/site-packages/sklearn/linear_model/logistic.py:433: FutureWarning: Default solver will be changed to 'lbfgs' in 0.22. Specify a solver to silence this warning.\n",
      "  FutureWarning)\n",
      "/home/jupyterlab/conda/lib/python3.6/site-packages/sklearn/linear_model/logistic.py:460: FutureWarning: Default multi_class will be changed to 'auto' in 0.22. Specify the multi_class option to silence this warning.\n",
      "  \"this warning.\", FutureWarning)\n"
     ]
    },
    {
     "name": "stdout",
     "output_type": "stream",
     "text": [
      "Train accuracy: 0.6938044831880449\n",
      "Test accuracy: 0.5962236746550472\n"
     ]
    }
   ],
   "source": [
    "#apply logistic regression model on negative tweets \n",
    "train_ac_usAir_negative, test_ac_usAir_negative = lrmodel(feature_train_us_negative, feature_test_us_negative, target_train_us_negative, target_test_us_negative)"
   ]
  },
  {
   "cell_type": "markdown",
   "metadata": {},
   "source": [
    "After applying logistic regression model on negative tweets on US airline, setting negative reasons as target and top 500 common words as features, the train and test accuracy is shown as 0.693804 and 0.5962237, respectively."
   ]
  },
  {
   "cell_type": "markdown",
   "metadata": {},
   "source": [
    "# 5. Result"
   ]
  },
  {
   "cell_type": "markdown",
   "metadata": {},
   "source": [
    "Research Question:What can public opinion on Twitter tell us about the US airlines in 2015?"
   ]
  },
  {
   "cell_type": "code",
   "execution_count": 49,
   "metadata": {},
   "outputs": [],
   "source": [
    "USairlinescompany = ['virginamerica','united', 'jetblue', 'southwestair', 'usairways', 'americanair', 'delta', 'unknown']\n",
    "\n",
    "# The function is created to find the number of positive and negative tweets of the airline and count them\n",
    "def Countpositivenegative(US_airline_tw_df, USairlinescompany):\n",
    "    \n",
    "    # Create and initialize dictinaries for all the airline companys\n",
    "    virginamerica_df = {'positive': 0,'negative': 0}\n",
    "    united_df = {'positive': 0,'negative': 0}\n",
    "    jetblue_df = {'positive':0 ,'negative': 0}\n",
    "    southwestair_df = {'positive': 0,'negative':0}\n",
    "    usairways_df = {'positive': 0,'negative': 0}\n",
    "    americanair_df = {'positive': 0,'negative': 0}\n",
    "    delta_df = {'positive': 0,'negative': 0}\n",
    "\n",
    "    for i in range(len(US_airline_tw_df['text'])):\n",
    "        tw = US_airline_tw_df['text'][i].split(' ')\n",
    "        if USairlinescompany[0] in tw:\n",
    "            if US_airline_tw_df['sentiment'][i] == 'positive':\n",
    "                virginamerica_df['positive'] = virginamerica_df['positive'] +1\n",
    "            else:\n",
    "                virginamerica_df['negative'] = virginamerica_df['negative'] +1\n",
    "            continue\n",
    "        elif USairlinescompany[1] in tw:\n",
    "            if US_airline_tw_df['sentiment'][i] == 'positive':\n",
    "                united_df['positive'] = united_df['positive'] +1\n",
    "            else:\n",
    "                united_df['negative'] = united_df['negative'] +1\n",
    "            continue\n",
    "        elif USairlinescompany[2] in tw:\n",
    "            if US_airline_tw_df['sentiment'][i] == 'positive':\n",
    "                jetblue_df['positive'] = jetblue_df['positive'] +1\n",
    "            else:\n",
    "                jetblue_df['negative'] = jetblue_df['negative'] +1\n",
    "            continue\n",
    "        elif USairlinescompany[3] in tw:\n",
    "            if US_airline_tw_df['sentiment'][i] == 'positive':\n",
    "                southwestair_df['positive'] = southwestair_df['positive'] +1\n",
    "            else:\n",
    "                southwestair_df['negative'] = southwestair_df['negative'] +1\n",
    "            continue\n",
    "        elif USairlinescompany[4] in tw:\n",
    "            if US_airline_tw_df['sentiment'][i] == 'positive':\n",
    "                usairways_df['positive'] = usairways_df['positive'] +1\n",
    "            else:\n",
    "                usairways_df['negative'] = usairways_df['negative'] +1\n",
    "            continue\n",
    "        elif USairlinescompany[5] in tw:\n",
    "            if US_airline_tw_df['sentiment'][i] == 'positive':\n",
    "                americanair_df['positive'] = americanair_df['positive'] +1\n",
    "            else:\n",
    "                americanair_df['negative'] = americanair_df['negative'] +1\n",
    "            continue\n",
    "        elif USairlinescompany[6] in tw:\n",
    "            if US_airline_tw_df['sentiment'][i] == 'positive':\n",
    "                delta_df['positive'] = delta_df['positive'] +1\n",
    "            else:\n",
    "                delta_df['negative'] = delta_df['negative'] +1\n",
    "            continue\n",
    "            \n",
    "    return virginamerica_df,united_df, jetblue_df,southwestair_df, usairways_df, americanair_df, delta_df"
   ]
  },
  {
   "cell_type": "code",
   "execution_count": 50,
   "metadata": {},
   "outputs": [],
   "source": [
    "# calculate and show those dictionary for each airlines\n",
    "virginamerica_df,united_df, jetblue_df,southwestair_df, usairways_df, americanair_df, delta_df  = Countpositivenegative(us_airline_clean_tw_df, USairlinescompany)"
   ]
  },
  {
   "cell_type": "code",
   "execution_count": 51,
   "metadata": {},
   "outputs": [
    {
     "data": {
      "text/plain": [
       "{'positive': 147, 'negative': 174}"
      ]
     },
     "execution_count": 51,
     "metadata": {},
     "output_type": "execute_result"
    }
   ],
   "source": [
    "virginamerica_df"
   ]
  },
  {
   "cell_type": "code",
   "execution_count": 52,
   "metadata": {},
   "outputs": [
    {
     "data": {
      "image/png": "[encoded data removed]",
      "text/plain": [
       "<Figure size 432x288 with 1 Axes>"
      ]
     },
     "metadata": {
      "needs_background": "light"
     },
     "output_type": "display_data"
    }
   ],
   "source": [
    "#plot the histogram for the dictionaries\n",
    "x = np.arange(7)  # the x locations for the groups\n",
    "width = 0.5\n",
    "\n",
    "fig = plt.figure()\n",
    "ax = fig.add_subplot(111)\n",
    "yvals = [virginamerica_df['positive'],united_df['positive'],jetblue_df['positive'],southwestair_df['positive'],usairways_df['positive'],americanair_df['positive'], delta_df['positive']]\n",
    "rects1 = ax.bar(x, yvals, width, color='g')\n",
    "zvals = [virginamerica_df['negative'],united_df['negative'],jetblue_df['negative'],southwestair_df['negative'],usairways_df['negative'],americanair_df['negative'], delta_df['negative']]\n",
    "rects2 = ax.bar(x+width, zvals, width, color='r')\n",
    "\n",
    "ax.set_ylabel('Tweets')\n",
    "ax.set_xticks(x+width)\n",
    "ax.set_xticklabels( ('virginamerica', 'united', 'jetblue', 'southwestair', 'usairways', 'americanair', 'delta'), rotation=45)\n",
    "ax.legend( (rects1[0], rects2[0]), ('positive', 'negative') )\n",
    "\n",
    "def label(rects):\n",
    "    for rect in rects:\n",
    "        h = rect.get_height()\n",
    "        ax.text(rect.get_x()+rect.get_width()/2., 1.05*h, '%d'%int(h),\n",
    "                ha='center', va='bottom')\n",
    "\n",
    "label(rects1)\n",
    "label(rects2)\n",
    "\n",
    "\n",
    "plt.show()"
   ]
  },
  {
   "cell_type": "markdown",
   "metadata": {},
   "source": [
    "Above histogram shows that united,usairways, and americanair has the most negative reviews compared to other airlines. Even though united, jetblue, and southwest air has more positive public opinions that the others, their number of positive reviews are relatively smaller than their negative ones."
   ]
  },
  {
   "cell_type": "markdown",
   "metadata": {},
   "source": [
    "For the second model, confusion matrix diagram will be built to figure why the model failed to predict correct negative reasons."
   ]
  },
  {
   "cell_type": "code",
   "execution_count": 53,
   "metadata": {},
   "outputs": [],
   "source": [
    "def confusionmatrix(X, y, numberoftests):\n",
    "\n",
    "    confusion_matrix_list = []\n",
    "\n",
    "    for i in range(numberoftests):\n",
    "    \n",
    "        # split to train and test set\n",
    "        import random\n",
    "        X_train, X_test, y_train, y_test = train_test_split(X, y, test_size=0.3, random_state=random.randint(1,500))\n",
    "\n",
    "        # train a logistic regression classifier\n",
    "        lrclassifier = LogisticRegression(C=1.0).fit(X_train, y_train)\n",
    "\n",
    "        # predict on train and test set\n",
    "        y_train_predict = lrclassifier.predict(X_train)\n",
    "        y_test_predict = lrclassifier.predict(X_test)\n",
    "        \n",
    "        confusionmatrix = confusion_matrix(y_test, y_test_predict)\n",
    "        confusion_matrix_list.append(confusionmatrix)\n",
    "    \n",
    "    # sum the confusion matrices and return the combined confusion matrix\n",
    "    combined_confusion_matrix = pd.Panel(confusion_matrix_list).sum(axis=0)\n",
    "    \n",
    "    # validate return type\n",
    "    assert isinstance(combined_confusion_matrix, pd.DataFrame), \"return type\"\n",
    "    \n",
    "    return combined_confusion_matrix"
   ]
  },
  {
   "cell_type": "code",
   "execution_count": 54,
   "metadata": {},
   "outputs": [],
   "source": [
    "def plot_confusion_matrix(cm):\n",
    "    # plot the confusion matrix\n",
    "    plt.figure(figsize=(10,10))\n",
    "    plt.matshow(cm, fignum=1)\n",
    "    plt.colorbar()\n",
    "    \n",
    "    # add labels for all targets\n",
    "    num_targets = cm.shape[0]\n",
    "    plt.xticks(list(range(num_targets+1)))\n",
    "    plt.yticks(list(range(num_targets+1)))"
   ]
  },
  {
   "cell_type": "code",
   "execution_count": 55,
   "metadata": {},
   "outputs": [
    {
     "name": "stderr",
     "output_type": "stream",
     "text": [
      "/home/jupyterlab/conda/lib/python3.6/site-packages/sklearn/linear_model/logistic.py:433: FutureWarning: Default solver will be changed to 'lbfgs' in 0.22. Specify a solver to silence this warning.\n",
      "  FutureWarning)\n",
      "/home/jupyterlab/conda/lib/python3.6/site-packages/sklearn/linear_model/logistic.py:460: FutureWarning: Default multi_class will be changed to 'auto' in 0.22. Specify the multi_class option to silence this warning.\n",
      "  \"this warning.\", FutureWarning)\n",
      "/home/jupyterlab/conda/lib/python3.6/site-packages/ipykernel_launcher.py:1: FutureWarning: \n",
      "Panel is deprecated and will be removed in a future version.\n",
      "The recommended way to represent these types of 3-dimensional data are with a MultiIndex on a DataFrame, via the Panel.to_frame() method\n",
      "Alternatively, you can use the xarray package http://xarray.pydata.org/en/stable/.\n",
      "Pandas provides a `.to_xarray()` method to help automate this conversion.\n",
      "\n",
      "  \"\"\"Entry point for launching an IPython kernel.\n"
     ]
    },
    {
     "data": {
      "image/png": "[encoded data removed]",
      "text/plain": [
       "<Figure size 720x720 with 2 Axes>"
      ]
     },
     "metadata": {
      "needs_background": "light"
     },
     "output_type": "display_data"
    }
   ],
   "source": [
    "cm9 = confusionmatrix(feature_df_usAir_negative, target_usAir_negative, numberoftests = 1)\n",
    "plot_confusion_matrix(cm9)"
   ]
  },
  {
   "cell_type": "code",
   "execution_count": 56,
   "metadata": {},
   "outputs": [
    {
     "data": {
      "text/plain": [
       "['bad flight',\n",
       " \"can't tell\",\n",
       " 'late flight',\n",
       " 'customer service issue',\n",
       " 'flight booking problems',\n",
       " 'lost luggage',\n",
       " 'flight attendant complaints',\n",
       " 'cancelled flight',\n",
       " 'damaged luggage',\n",
       " 'longlines']"
      ]
     },
     "execution_count": 56,
     "metadata": {},
     "output_type": "execute_result"
    }
   ],
   "source": [
    "negative_reasons_list"
   ]
  },
  {
   "cell_type": "markdown",
   "metadata": {},
   "source": [
    "The above shows the reason for each number in confusion matrix. the matrix shows dark colors on 4-4 and 9-9 which are 'flight booking problems' and 'longlines'.' This shows that there are small numbers of predicted negative reasons that match the real reason. The reason for this mismatch could be that the three complaint are similar to one another. "
   ]
  },
  {
   "cell_type": "markdown",
   "metadata": {},
   "source": [
    "To improve the accuracy of this model, the US_airline_data could be correcting the data by combining the tweets that have similar reasons. The above matrix shows 10 reasons. This could be reduced by combining the similar ones."
   ]
  }
 ],
 "metadata": {
  "kernelspec": {
   "display_name": "Python 3",
   "language": "python",
   "name": "python3"
  },
  "language_info": {
   "codemirror_mode": {
    "name": "ipython",
    "version": 3
   },
   "file_extension": ".py",
   "mimetype": "text/x-python",
   "name": "python",
   "nbconvert_exporter": "python",
   "pygments_lexer": "ipython3",
   "version": "3.6.5"
  }
 },
 "nbformat": 4,
 "nbformat_minor": 2
}
